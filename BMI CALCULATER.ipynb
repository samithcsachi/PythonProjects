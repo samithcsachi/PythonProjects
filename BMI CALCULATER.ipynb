{
 "cells": [
  {
   "cell_type": "code",
   "execution_count": 14,
   "id": "c60e12ea",
   "metadata": {},
   "outputs": [
    {
     "name": "stdout",
     "output_type": "stream",
     "text": [
      "Enter your name:Samith\n",
      "Enter your weight in kgs : 70.2\n",
      "Enter your height in meter: 1.68\n",
      "24.87244897959184\n",
      "Samith, You are Normal Weight.\n"
     ]
    }
   ],
   "source": [
    "name = input (\"Enter your name:\") \n",
    "\n",
    "weight = float( input (\"Enter your weight in kgs : \"))\n",
    "height = float( input (\"Enter your height in meter: \"))\n",
    "\n",
    "\n",
    "BMI = (weight /(height*height))\n",
    "\n",
    "print(BMI)\n",
    "\n",
    "if BMI >0:\n",
    "    if(BMI <18.5):\n",
    "        print (name + \", You are underweight.\")\n",
    "    elif (BMI<=24.9):\n",
    "        print (name + \", You are Normal Weight.\")\n",
    "    elif(BMI < 29.9):\n",
    "        print (name + \", You are Overweight.\")\n",
    "    elif(BMI <34.9):\n",
    "        print (name + \", You are obese.\")\n",
    "    elif(BMI <39.9):\n",
    "        print (name + \", You are Severly obese.\")\n",
    "        \n",
    "    else:\n",
    "        print (name + \", You are over Morbidly obese.\")\n",
    "else:\n",
    "    print (\" Enter valid inputs\")"
   ]
  },
  {
   "cell_type": "code",
   "execution_count": null,
   "id": "d0af76b6",
   "metadata": {},
   "outputs": [],
   "source": []
  },
  {
   "cell_type": "markdown",
   "id": "11eca9de",
   "metadata": {},
   "source": []
  },
  {
   "cell_type": "code",
   "execution_count": null,
   "id": "0f2b56f2",
   "metadata": {},
   "outputs": [],
   "source": []
  },
  {
   "cell_type": "code",
   "execution_count": null,
   "id": "9659ccbc",
   "metadata": {},
   "outputs": [],
   "source": []
  },
  {
   "cell_type": "code",
   "execution_count": null,
   "id": "b765607a",
   "metadata": {},
   "outputs": [],
   "source": []
  },
  {
   "cell_type": "code",
   "execution_count": null,
   "id": "f9f8edef",
   "metadata": {},
   "outputs": [],
   "source": []
  },
  {
   "cell_type": "code",
   "execution_count": null,
   "id": "de3c2d40",
   "metadata": {},
   "outputs": [],
   "source": [
    "#BMI = (weight in kgs / (height in meter x height in meter))"
   ]
  },
  {
   "cell_type": "code",
   "execution_count": null,
   "id": "fbc00fba",
   "metadata": {},
   "outputs": [],
   "source": [
    "# Under 18.5 - Underweight Minimal\n",
    "# 18.5 -24.9- Normal Weight - Minimal \n",
    "#25-29.9 - Overweight - Increased \n",
    "# 30-34.9 - obese- High\n",
    "#35-39.9 - Severly obese- very high \n",
    "# 40 and over Morbidly obese- Extremely High "
   ]
  },
  {
   "cell_type": "code",
   "execution_count": null,
   "id": "ab00c11f",
   "metadata": {},
   "outputs": [],
   "source": [
    "  "
   ]
  },
  {
   "cell_type": "code",
   "execution_count": null,
   "id": "d3aeb490",
   "metadata": {},
   "outputs": [],
   "source": []
  },
  {
   "cell_type": "code",
   "execution_count": null,
   "id": "3bc18b09",
   "metadata": {},
   "outputs": [],
   "source": []
  },
  {
   "cell_type": "code",
   "execution_count": null,
   "id": "8ca947e4",
   "metadata": {},
   "outputs": [],
   "source": []
  },
  {
   "cell_type": "code",
   "execution_count": null,
   "id": "baef72cc",
   "metadata": {},
   "outputs": [],
   "source": []
  }
 ],
 "metadata": {
  "kernelspec": {
   "display_name": "Python 3 (ipykernel)",
   "language": "python",
   "name": "python3"
  },
  "language_info": {
   "codemirror_mode": {
    "name": "ipython",
    "version": 3
   },
   "file_extension": ".py",
   "mimetype": "text/x-python",
   "name": "python",
   "nbconvert_exporter": "python",
   "pygments_lexer": "ipython3",
   "version": "3.11.4"
  }
 },
 "nbformat": 4,
 "nbformat_minor": 5
}
