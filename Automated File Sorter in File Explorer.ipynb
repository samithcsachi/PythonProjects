{
 "cells": [
  {
   "cell_type": "code",
   "execution_count": 33,
   "id": "2607d14e",
   "metadata": {},
   "outputs": [],
   "source": [
    "import os, shutil\n"
   ]
  },
  {
   "cell_type": "code",
   "execution_count": 34,
   "id": "f59bd698",
   "metadata": {},
   "outputs": [],
   "source": [
    "path = r\"G:/SWETHA/\""
   ]
  },
  {
   "cell_type": "raw",
   "id": "28e67494",
   "metadata": {},
   "source": []
  },
  {
   "cell_type": "code",
   "execution_count": 35,
   "id": "c281a8e6",
   "metadata": {},
   "outputs": [],
   "source": [
    "file_name = os.listdir(path)"
   ]
  },
  {
   "cell_type": "code",
   "execution_count": 36,
   "id": "01fd88d5",
   "metadata": {},
   "outputs": [],
   "source": [
    "folder_names = ['Pdf files', 'Image files', 'Text files']\n",
    "for loop in range(0,3):\n",
    "    if not os.path.exists (path + folder_names[loop] ):\n",
    "    #print(path + folder_names[loop] )\n",
    "         os.makedirs(path + folder_names[loop] )\n",
    "    \n",
    "for file in file_name:\n",
    "    if \".pdf\" in file and not os.path.exists(path + \"Pdf files/\"+ file):\n",
    "        shutil.move(path + file, path + \"Pdf files/\" + file )\n",
    "    elif \".jpg\" in file and not os.path.exists (path + \"Image files/\" + file):\n",
    "        shutil.move(path + file, path + \"Image files/\" + file )\n",
    "    elif \".JPG\" in file and not os.path.exists (path + \"Image files/\" + file):\n",
    "        shutil.move(path + file, path + \"Image files/\" + file )\n",
    "    elif \".txt\" in file and not os.path.exists (path + \"Text files/\" + file):\n",
    "        shutil.move(path + file, path + \"Text files/\" + file )"
   ]
  },
  {
   "cell_type": "code",
   "execution_count": 23,
   "id": "a89ea33a",
   "metadata": {},
   "outputs": [],
   "source": [
    "\n"
   ]
  },
  {
   "cell_type": "code",
   "execution_count": null,
   "id": "8a26f0fb",
   "metadata": {},
   "outputs": [],
   "source": []
  },
  {
   "cell_type": "code",
   "execution_count": null,
   "id": "c3939a92",
   "metadata": {},
   "outputs": [],
   "source": []
  },
  {
   "cell_type": "code",
   "execution_count": null,
   "id": "dbd36689",
   "metadata": {},
   "outputs": [],
   "source": []
  },
  {
   "cell_type": "code",
   "execution_count": null,
   "id": "af360795",
   "metadata": {},
   "outputs": [],
   "source": []
  },
  {
   "cell_type": "code",
   "execution_count": null,
   "id": "cf3b3c7f",
   "metadata": {},
   "outputs": [],
   "source": []
  },
  {
   "cell_type": "code",
   "execution_count": null,
   "id": "4633a1de",
   "metadata": {},
   "outputs": [],
   "source": []
  },
  {
   "cell_type": "code",
   "execution_count": null,
   "id": "083566d8",
   "metadata": {},
   "outputs": [],
   "source": []
  },
  {
   "cell_type": "code",
   "execution_count": null,
   "id": "7acb6949",
   "metadata": {},
   "outputs": [],
   "source": []
  },
  {
   "cell_type": "code",
   "execution_count": null,
   "id": "4becc091",
   "metadata": {},
   "outputs": [],
   "source": []
  },
  {
   "cell_type": "code",
   "execution_count": null,
   "id": "af2acb56",
   "metadata": {},
   "outputs": [],
   "source": []
  },
  {
   "cell_type": "code",
   "execution_count": null,
   "id": "01f2ef13",
   "metadata": {},
   "outputs": [],
   "source": []
  }
 ],
 "metadata": {
  "kernelspec": {
   "display_name": "Python 3 (ipykernel)",
   "language": "python",
   "name": "python3"
  },
  "language_info": {
   "codemirror_mode": {
    "name": "ipython",
    "version": 3
   },
   "file_extension": ".py",
   "mimetype": "text/x-python",
   "name": "python",
   "nbconvert_exporter": "python",
   "pygments_lexer": "ipython3",
   "version": "3.11.4"
  }
 },
 "nbformat": 4,
 "nbformat_minor": 5
}
